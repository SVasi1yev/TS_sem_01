{
 "cells": [
  {
   "cell_type": "markdown",
   "metadata": {},
   "source": [
    "**Общая информация**\n",
    "\n",
    "**Срок сдачи:** 20 марта 2019, 06:00 <br\\>\n",
    "**Штраф за опоздание:** -1 балл после 06:00 20 марта, -2 балла после 06:00 27 марта, -3 балла после 06:00 3 апреля\n",
    "\n",
    "При отправлении ДЗ указывайте фамилию в названии файла\n",
    "Присылать ДЗ необходимо в виде ссылки на свой github репозиторий в slack @alkhamush\n",
    "\n",
    "Необходимо в slack скинуть ссылку в личный чат @alkhamush\n",
    "Пример ссылки:\n",
    "https://github.com/stroykova/spheremailru/stroykova_hw1.ipynb \n",
    "\n",
    "\n",
    "Используйте данный Ipython Notebook при оформлении домашнего задания."
   ]
  },
  {
   "cell_type": "markdown",
   "metadata": {},
   "source": [
    "###### Задание 1 (2 баллов)\n",
    "Реализовать KNN в классе MyKNeighborsClassifier (обязательное условие: точность не ниже sklearn реализации)\n",
    "Разберитесь самостоятельно, какая мера расстояния используется в KNeighborsClassifier дефолтно и реализуйте свой алгоритм именно с этой мерой. Самостоятельно разберитесь, как считается score из KNeighborsClassifier и реализуйте аналог в своём классе. Score не должен уступать значению KNN из sklearn\n",
    "\n",
    "###### Задание 2 (2 балла)\n",
    "Добиться скорости работы на fit,  predict и predict_proba сравнимой со sklearn для iris и mnist\n",
    "Для этого используем numpy\n",
    "\n",
    "###### Задание 3 (2 балла)\n",
    "Для iris найдите такой параметр n_neighbors, при котором выдаётся наилучший score. Нарисуйте график зависимости score от n_neighbors\n",
    "\n",
    "###### Задание 4 (3 балла)\n",
    "Добавить algorithm='kd_tree' в реализацию KNN (использовать KDTree из sklearn.neighbors). Значение n_neighbors нужно взять из задания 3. Добиться скорости работы на fit,  predict и predict_proba сравнимой со sklearn для iris и mnist\n",
    "Для этого используем numpy. Score не должен уступать значению KNN из sklearn\n",
    "\n",
    "###### Задание 5 (1 балла)\n",
    "Описать для чего нужны следующие библиотеки/классы/функции (список будет ниже)\n",
    "\n",
    "**Штрафные баллы:**\n",
    "\n",
    "1. Невыполнение PEP8 -1 балл\n",
    "2. Отсутствие фамилии в имени скрипта (скрипт должен называться по аналогии со stroykova_hw1.ipynb) -1 балл\n",
    "3. Все строчки должны быть выполнены. Нужно, чтобы output команды можно было увидеть уже в git'е. В противном случае -1 балл\n",
    "4. При оформлении ДЗ нужно пользоваться данным файлом в качестве шаблона. Не нужно удалять и видоизменять структуру кода и текст. В противном случае -1 балл\n"
   ]
  },
  {
   "cell_type": "code",
   "execution_count": 1,
   "metadata": {},
   "outputs": [],
   "source": [
    "import numpy as np\n",
    "import matplotlib.pyplot as plt\n",
    "\n",
    "import seaborn as sns\n",
    "from sklearn import datasets\n",
    "from sklearn.base import ClassifierMixin\n",
    "from sklearn.datasets import fetch_openml\n",
    "from sklearn.neighbors.base import NeighborsBase, KNeighborsMixin, SupervisedIntegerMixin \n",
    "from sklearn.model_selection import train_test_split\n",
    "from sklearn.neighbors import KNeighborsClassifier\n",
    "from sklearn.neighbors import KDTree\n",
    "%load_ext pycodestyle_magic"
   ]
  },
  {
   "cell_type": "code",
   "execution_count": 2,
   "metadata": {},
   "outputs": [],
   "source": [
    "#%%pycodestyle\n",
    "\n",
    "\n",
    "class MyKNeighborsClassifier(NeighborsBase, KNeighborsMixin,\n",
    "                             SupervisedIntegerMixin, ClassifierMixin):\n",
    "\n",
    "    def __init__(self, n_neighbors, algorithm='brute'):\n",
    "        self.n_neighbors = n_neighbors\n",
    "        self.algorithm = algorithm\n",
    "\n",
    "    def fit(self, X, y):\n",
    "        self.fit_X = np.array(X)\n",
    "        self.fit_y = np.array(y)\n",
    "        self.fit_XX = (self.fit_X ** 2).sum(axis=1)\n",
    "        self.tree = KDTree(self.fit_X)\n",
    "        self.classes = np.unique(self.fit_y)\n",
    "\n",
    "    def dist(self, X):\n",
    "        X = np.array(X)\n",
    "        XX = (X ** 2).sum(axis=1)\n",
    "        d = np.matmul(X, self.fit_X.T)\n",
    "        d *= -2\n",
    "        d += XX.reshape(XX.shape[0], 1)\n",
    "        d += self.fit_XX\n",
    "        d = np.sqrt(d)\n",
    "        return d\n",
    "\n",
    "    def count_nn_classes(self, X):\n",
    "        X = np.array(X)\n",
    "        if self.algorithm == 'kd_tree':\n",
    "            d, order = self.tree.query(X, k=self.n_neighbors)\n",
    "        else:\n",
    "            d = self.dist(X)\n",
    "            order = np.argpartition(d, self.n_neighbors)[:, :self.n_neighbors]\n",
    "        nn_classes = self.fit_y[order].astype(int)\n",
    "        counts = np.empty((X.shape[0], self.classes.shape[0]), dtype=int)\n",
    "        for i in range(X.shape[0]):\n",
    "            counts[i] = np.bincount(nn_classes[i],\n",
    "                                    minlength=self.classes.astype(int).max()+1)\n",
    "            [self.classes.astype(int)]\n",
    "        return counts\n",
    "\n",
    "    def predict(self, X):\n",
    "        return self.classes[self.count_nn_classes(X).argmax(axis=1)].flatten()\\\n",
    "            .astype(self.fit_y.dtype)\n",
    "\n",
    "    def predict_proba(self, X):\n",
    "        return self.count_nn_classes(X) / self.n_neighbors\n",
    "\n",
    "    def score(self, X, y):\n",
    "        X = np.array(X)\n",
    "        y = np.array(y)\n",
    "        return (self.predict(X) == y).sum() / y.size"
   ]
  },
  {
   "cell_type": "markdown",
   "metadata": {},
   "source": [
    "**IRIS**"
   ]
  },
  {
   "cell_type": "code",
   "execution_count": 3,
   "metadata": {},
   "outputs": [],
   "source": [
    "iris = datasets.load_iris()"
   ]
  },
  {
   "cell_type": "code",
   "execution_count": 4,
   "metadata": {},
   "outputs": [],
   "source": [
    "X_train, X_test, y_train, y_test = train_test_split(iris.data, iris.target, test_size=0.1, stratify=iris.target)"
   ]
  },
  {
   "cell_type": "code",
   "execution_count": 5,
   "metadata": {},
   "outputs": [],
   "source": [
    "clf = KNeighborsClassifier(n_neighbors=2)\n",
    "my_clf = MyKNeighborsClassifier(n_neighbors=2)"
   ]
  },
  {
   "cell_type": "code",
   "execution_count": 6,
   "metadata": {},
   "outputs": [
    {
     "name": "stdout",
     "output_type": "stream",
     "text": [
      "CPU times: user 0 ns, sys: 2.13 ms, total: 2.13 ms\n",
      "Wall time: 1.7 ms\n"
     ]
    },
    {
     "data": {
      "text/plain": [
       "KNeighborsClassifier(algorithm='auto', leaf_size=30, metric='minkowski',\n",
       "           metric_params=None, n_jobs=None, n_neighbors=2, p=2,\n",
       "           weights='uniform')"
      ]
     },
     "execution_count": 6,
     "metadata": {},
     "output_type": "execute_result"
    }
   ],
   "source": [
    "%time clf.fit(X_train, y_train)"
   ]
  },
  {
   "cell_type": "code",
   "execution_count": 7,
   "metadata": {},
   "outputs": [
    {
     "name": "stdout",
     "output_type": "stream",
     "text": [
      "CPU times: user 871 µs, sys: 93 µs, total: 964 µs\n",
      "Wall time: 725 µs\n"
     ]
    }
   ],
   "source": [
    "%time my_clf.fit(X_train, y_train)"
   ]
  },
  {
   "cell_type": "code",
   "execution_count": 8,
   "metadata": {},
   "outputs": [
    {
     "name": "stdout",
     "output_type": "stream",
     "text": [
      "CPU times: user 1.67 ms, sys: 181 µs, total: 1.85 ms\n",
      "Wall time: 1.72 ms\n"
     ]
    },
    {
     "data": {
      "text/plain": [
       "array([0, 0, 0, 1, 2, 0, 2, 2, 1, 0, 1, 1, 2, 2, 1])"
      ]
     },
     "execution_count": 8,
     "metadata": {},
     "output_type": "execute_result"
    }
   ],
   "source": [
    "%time clf.predict(X_test)"
   ]
  },
  {
   "cell_type": "code",
   "execution_count": 9,
   "metadata": {},
   "outputs": [
    {
     "name": "stdout",
     "output_type": "stream",
     "text": [
      "CPU times: user 2.54 ms, sys: 212 µs, total: 2.75 ms\n",
      "Wall time: 20.7 ms\n"
     ]
    },
    {
     "data": {
      "text/plain": [
       "array([0, 0, 0, 1, 2, 0, 2, 2, 1, 0, 1, 1, 2, 2, 1])"
      ]
     },
     "execution_count": 9,
     "metadata": {},
     "output_type": "execute_result"
    }
   ],
   "source": [
    "%time my_clf.predict(X_test)"
   ]
  },
  {
   "cell_type": "code",
   "execution_count": 10,
   "metadata": {},
   "outputs": [
    {
     "name": "stdout",
     "output_type": "stream",
     "text": [
      "CPU times: user 1.16 ms, sys: 131 µs, total: 1.29 ms\n",
      "Wall time: 1.2 ms\n"
     ]
    },
    {
     "data": {
      "text/plain": [
       "array([[1., 0., 0.],\n",
       "       [1., 0., 0.],\n",
       "       [1., 0., 0.],\n",
       "       [0., 1., 0.],\n",
       "       [0., 0., 1.],\n",
       "       [1., 0., 0.],\n",
       "       [0., 0., 1.],\n",
       "       [0., 0., 1.],\n",
       "       [0., 1., 0.],\n",
       "       [1., 0., 0.],\n",
       "       [0., 1., 0.],\n",
       "       [0., 1., 0.],\n",
       "       [0., 0., 1.],\n",
       "       [0., 0., 1.],\n",
       "       [0., 1., 0.]])"
      ]
     },
     "execution_count": 10,
     "metadata": {},
     "output_type": "execute_result"
    }
   ],
   "source": [
    "%time clf.predict_proba(X_test)"
   ]
  },
  {
   "cell_type": "code",
   "execution_count": 11,
   "metadata": {},
   "outputs": [
    {
     "name": "stdout",
     "output_type": "stream",
     "text": [
      "CPU times: user 790 µs, sys: 91 µs, total: 881 µs\n",
      "Wall time: 544 µs\n"
     ]
    },
    {
     "data": {
      "text/plain": [
       "array([[1., 0., 0.],\n",
       "       [1., 0., 0.],\n",
       "       [1., 0., 0.],\n",
       "       [0., 1., 0.],\n",
       "       [0., 0., 1.],\n",
       "       [1., 0., 0.],\n",
       "       [0., 0., 1.],\n",
       "       [0., 0., 1.],\n",
       "       [0., 1., 0.],\n",
       "       [1., 0., 0.],\n",
       "       [0., 1., 0.],\n",
       "       [0., 1., 0.],\n",
       "       [0., 0., 1.],\n",
       "       [0., 0., 1.],\n",
       "       [0., 1., 0.]])"
      ]
     },
     "execution_count": 11,
     "metadata": {},
     "output_type": "execute_result"
    }
   ],
   "source": [
    "%time my_clf.predict_proba(X_test)"
   ]
  },
  {
   "cell_type": "code",
   "execution_count": 12,
   "metadata": {},
   "outputs": [
    {
     "data": {
      "text/plain": [
       "1.0"
      ]
     },
     "execution_count": 12,
     "metadata": {},
     "output_type": "execute_result"
    }
   ],
   "source": [
    "clf.score(X_test, y_test)"
   ]
  },
  {
   "cell_type": "code",
   "execution_count": 13,
   "metadata": {},
   "outputs": [
    {
     "data": {
      "text/plain": [
       "1.0"
      ]
     },
     "execution_count": 13,
     "metadata": {},
     "output_type": "execute_result"
    }
   ],
   "source": [
    "my_clf.score(X_test, y_test)"
   ]
  },
  {
   "cell_type": "markdown",
   "metadata": {},
   "source": [
    "Задание 3"
   ]
  },
  {
   "cell_type": "code",
   "execution_count": 14,
   "metadata": {},
   "outputs": [
    {
     "name": "stdout",
     "output_type": "stream",
     "text": [
      "Max score 1.0 was reached on 1 neighbors\n"
     ]
    },
    {
     "data": {
      "image/png": "[encoded data removed]",
      "text/plain": [
       "<Figure size 432x288 with 1 Axes>"
      ]
     },
     "metadata": {
      "needs_background": "light"
     },
     "output_type": "display_data"
    }
   ],
   "source": [
    "n = 100\n",
    "scores = np.empty(n) \n",
    "for i in range(1, n + 1):\n",
    "    my_clf = MyKNeighborsClassifier(n_neighbors=i)\n",
    "    my_clf.fit(X_train, y_train)\n",
    "    scores[i - 1] = my_clf.score(X_test, y_test)\n",
    "    \n",
    "plt.plot(range(1, n + 1), scores)\n",
    "print('Max score {0} was reached on {1} neighbors'.format(scores.max(), scores.argmax() + 1))"
   ]
  },
  {
   "cell_type": "markdown",
   "metadata": {},
   "source": [
    "**MNIST**"
   ]
  },
  {
   "cell_type": "code",
   "execution_count": 15,
   "metadata": {
    "scrolled": true
   },
   "outputs": [],
   "source": [
    "mnist = fetch_openml('mnist_784')"
   ]
  },
  {
   "cell_type": "code",
   "execution_count": 16,
   "metadata": {},
   "outputs": [],
   "source": [
    "X_train, X_test, y_train, y_test = train_test_split(mnist.data, mnist.target, test_size=0.01, stratify=mnist.target)"
   ]
  },
  {
   "cell_type": "code",
   "execution_count": 17,
   "metadata": {},
   "outputs": [],
   "source": [
    "clf = KNeighborsClassifier(n_neighbors=2)\n",
    "my_clf = MyKNeighborsClassifier(n_neighbors=2)"
   ]
  },
  {
   "cell_type": "code",
   "execution_count": 18,
   "metadata": {},
   "outputs": [
    {
     "name": "stdout",
     "output_type": "stream",
     "text": [
      "CPU times: user 30.8 s, sys: 43.7 ms, total: 30.8 s\n",
      "Wall time: 30.8 s\n"
     ]
    },
    {
     "data": {
      "text/plain": [
       "KNeighborsClassifier(algorithm='auto', leaf_size=30, metric='minkowski',\n",
       "           metric_params=None, n_jobs=None, n_neighbors=2, p=2,\n",
       "           weights='uniform')"
      ]
     },
     "execution_count": 18,
     "metadata": {},
     "output_type": "execute_result"
    }
   ],
   "source": [
    "%time clf.fit(X_train, y_train)"
   ]
  },
  {
   "cell_type": "code",
   "execution_count": 19,
   "metadata": {},
   "outputs": [
    {
     "name": "stdout",
     "output_type": "stream",
     "text": [
      "CPU times: user 31.1 s, sys: 536 ms, total: 31.6 s\n",
      "Wall time: 30.4 s\n"
     ]
    }
   ],
   "source": [
    "%time my_clf.fit(X_train, y_train)"
   ]
  },
  {
   "cell_type": "code",
   "execution_count": 20,
   "metadata": {},
   "outputs": [
    {
     "name": "stdout",
     "output_type": "stream",
     "text": [
      "CPU times: user 1min 6s, sys: 0 ns, total: 1min 6s\n",
      "Wall time: 1min 6s\n"
     ]
    },
    {
     "data": {
      "text/plain": [
       "array(['3', '0', '8', '1', '8', '5', '6', '4', '3', '3', '6', '6', '9',\n",
       "       '4', '6', '9', '7', '7', '7', '1', '3', '5', '3', '9', '9', '2',\n",
       "       '7', '0', '4', '6', '8', '4', '7', '4', '3', '5', '5', '2', '3',\n",
       "       '4', '0', '2', '5', '0', '4', '3', '7', '1', '3', '5', '9', '0',\n",
       "       '6', '6', '6', '2', '0', '5', '0', '8', '7', '4', '7', '1', '5',\n",
       "       '2', '1', '9', '4', '7', '3', '4', '9', '1', '1', '8', '5', '6',\n",
       "       '7', '7', '7', '7', '3', '8', '4', '3', '4', '9', '8', '0', '2',\n",
       "       '0', '3', '4', '7', '5', '5', '0', '0', '2', '5', '7', '5', '9',\n",
       "       '1', '9', '4', '9', '4', '8', '6', '5', '6', '1', '4', '4', '6',\n",
       "       '9', '3', '6', '0', '1', '0', '6', '2', '4', '6', '2', '1', '0',\n",
       "       '1', '4', '1', '1', '5', '2', '6', '7', '5', '4', '2', '1', '6',\n",
       "       '4', '2', '6', '7', '9', '8', '5', '1', '1', '6', '0', '9', '0',\n",
       "       '0', '9', '7', '4', '1', '7', '2', '0', '9', '0', '0', '6', '3',\n",
       "       '5', '1', '8', '3', '9', '2', '4', '8', '8', '0', '3', '9', '7',\n",
       "       '4', '1', '0', '6', '0', '0', '9', '0', '9', '6', '0', '3', '2',\n",
       "       '9', '1', '8', '8', '6', '0', '8', '3', '1', '7', '3', '3', '4',\n",
       "       '9', '2', '9', '0', '9', '9', '3', '8', '5', '5', '3', '4', '6',\n",
       "       '1', '8', '6', '2', '9', '9', '1', '4', '6', '9', '5', '4', '0',\n",
       "       '3', '0', '7', '6', '3', '6', '6', '0', '3', '3', '1', '0', '2',\n",
       "       '6', '0', '1', '1', '5', '8', '7', '4', '0', '7', '1', '9', '7',\n",
       "       '9', '7', '6', '8', '8', '7', '4', '2', '4', '0', '8', '7', '5',\n",
       "       '1', '6', '0', '7', '5', '6', '3', '0', '0', '4', '8', '4', '4',\n",
       "       '1', '7', '7', '3', '8', '9', '2', '2', '3', '1', '8', '1', '1',\n",
       "       '6', '5', '2', '2', '6', '6', '8', '3', '6', '9', '3', '3', '9',\n",
       "       '1', '1', '9', '1', '9', '2', '0', '8', '1', '5', '2', '7', '7',\n",
       "       '6', '1', '3', '4', '0', '0', '8', '1', '0', '8', '1', '8', '7',\n",
       "       '1', '3', '6', '2', '7', '2', '5', '1', '1', '5', '6', '5', '3',\n",
       "       '7', '7', '8', '2', '0', '5', '9', '3', '4', '7', '7', '6', '9',\n",
       "       '5', '3', '2', '8', '7', '0', '7', '5', '3', '3', '8', '7', '9',\n",
       "       '3', '1', '3', '8', '3', '7', '1', '7', '9', '8', '9', '5', '7',\n",
       "       '5', '8', '6', '1', '6', '2', '3', '0', '0', '7', '4', '6', '9',\n",
       "       '0', '7', '8', '0', '2', '8', '9', '7', '2', '8', '9', '3', '8',\n",
       "       '0', '4', '5', '2', '3', '7', '0', '3', '0', '5', '3', '6', '2',\n",
       "       '5', '1', '3', '5', '8', '5', '2', '1', '1', '2', '5', '6', '5',\n",
       "       '1', '7', '0', '7', '1', '3', '4', '7', '4', '1', '5', '1', '9',\n",
       "       '4', '0', '6', '7', '6', '8', '3', '1', '3', '7', '1', '1', '0',\n",
       "       '4', '4', '7', '0', '6', '9', '7', '2', '1', '6', '2', '2', '8',\n",
       "       '5', '0', '9', '3', '3', '0', '4', '5', '2', '0', '2', '1', '4',\n",
       "       '3', '1', '4', '4', '2', '3', '0', '7', '2', '6', '1', '5', '4',\n",
       "       '9', '5', '5', '2', '8', '6', '6', '4', '2', '6', '6', '3', '8',\n",
       "       '0', '1', '2', '1', '6', '9', '9', '2', '4', '2', '7', '7', '6',\n",
       "       '7', '6', '5', '3', '5', '2', '2', '4', '1', '5', '5', '7', '0',\n",
       "       '9', '2', '4', '9', '4', '0', '4', '8', '7', '3', '7', '2', '7',\n",
       "       '9', '6', '1', '3', '3', '0', '9', '1', '8', '7', '7', '9', '5',\n",
       "       '8', '2', '1', '9', '9', '6', '1', '8', '3', '2', '9', '9', '5',\n",
       "       '1', '6', '1', '8', '5', '2', '2', '3', '5', '2', '4', '3', '9',\n",
       "       '7', '2', '7', '1', '3', '8', '7', '5', '0', '8', '8', '8', '7',\n",
       "       '4', '2', '6', '5', '8', '6', '5', '0', '7', '6', '0', '4', '1',\n",
       "       '5', '5', '9', '8', '8', '1', '0', '0', '3', '8', '7', '8', '1',\n",
       "       '2', '0', '0', '7', '8', '3', '4', '4', '5', '4', '6', '8', '7',\n",
       "       '4', '2', '3', '2', '3', '9', '4', '3', '9', '8', '8', '7', '2',\n",
       "       '2', '6', '9', '4', '9', '4', '3', '0', '4', '0', '6', '1', '3',\n",
       "       '1', '1', '5', '7', '1', '3', '9', '4', '7', '1', '0', '1', '8',\n",
       "       '4', '1', '4', '7', '2', '4', '1', '9', '6', '0', '1'],\n",
       "      dtype=object)"
      ]
     },
     "execution_count": 20,
     "metadata": {},
     "output_type": "execute_result"
    }
   ],
   "source": [
    "%time clf.predict(X_test)"
   ]
  },
  {
   "cell_type": "code",
   "execution_count": 21,
   "metadata": {},
   "outputs": [
    {
     "name": "stdout",
     "output_type": "stream",
     "text": [
      "CPU times: user 4.46 s, sys: 348 ms, total: 4.81 s\n",
      "Wall time: 1.31 s\n"
     ]
    },
    {
     "data": {
      "text/plain": [
       "array(['3', '0', '8', '1', '8', '5', '6', '4', '3', '3', '6', '6', '9',\n",
       "       '4', '6', '9', '7', '7', '7', '1', '3', '5', '3', '9', '9', '2',\n",
       "       '7', '0', '4', '6', '8', '4', '7', '4', '3', '5', '5', '2', '3',\n",
       "       '4', '0', '2', '5', '0', '4', '3', '7', '1', '3', '5', '9', '0',\n",
       "       '6', '6', '6', '2', '0', '5', '0', '8', '7', '4', '7', '1', '5',\n",
       "       '2', '1', '9', '4', '7', '3', '4', '9', '1', '1', '8', '5', '6',\n",
       "       '7', '7', '7', '7', '3', '8', '4', '3', '4', '9', '8', '0', '2',\n",
       "       '0', '3', '4', '7', '5', '5', '0', '0', '2', '5', '7', '5', '9',\n",
       "       '1', '9', '4', '9', '4', '8', '6', '5', '6', '1', '4', '4', '6',\n",
       "       '9', '3', '6', '0', '1', '0', '6', '2', '4', '6', '2', '1', '0',\n",
       "       '1', '4', '1', '1', '5', '2', '6', '7', '5', '4', '2', '1', '6',\n",
       "       '4', '2', '6', '7', '9', '8', '5', '1', '1', '6', '0', '9', '0',\n",
       "       '0', '9', '7', '4', '1', '7', '2', '0', '9', '0', '0', '6', '3',\n",
       "       '5', '1', '8', '3', '9', '2', '4', '8', '8', '0', '3', '9', '7',\n",
       "       '4', '1', '0', '6', '0', '0', '9', '0', '9', '6', '0', '3', '2',\n",
       "       '9', '1', '8', '8', '6', '0', '8', '3', '1', '7', '3', '3', '4',\n",
       "       '9', '2', '9', '0', '9', '9', '3', '8', '5', '5', '3', '4', '6',\n",
       "       '1', '8', '6', '2', '9', '9', '1', '4', '6', '9', '5', '4', '0',\n",
       "       '3', '0', '7', '6', '3', '6', '6', '0', '3', '3', '1', '0', '2',\n",
       "       '6', '0', '1', '1', '5', '8', '7', '4', '0', '7', '1', '9', '7',\n",
       "       '9', '7', '6', '8', '8', '7', '4', '2', '4', '0', '8', '7', '5',\n",
       "       '1', '6', '0', '7', '5', '6', '3', '0', '0', '4', '8', '4', '4',\n",
       "       '1', '7', '7', '3', '8', '9', '2', '2', '3', '1', '8', '1', '1',\n",
       "       '6', '5', '2', '2', '6', '6', '8', '3', '6', '9', '3', '3', '9',\n",
       "       '1', '1', '9', '1', '9', '2', '0', '8', '1', '5', '2', '7', '7',\n",
       "       '6', '1', '3', '4', '0', '0', '8', '1', '0', '8', '1', '8', '7',\n",
       "       '1', '3', '6', '2', '7', '2', '5', '1', '1', '5', '6', '5', '3',\n",
       "       '7', '7', '8', '2', '0', '5', '9', '3', '4', '7', '7', '6', '9',\n",
       "       '5', '3', '2', '8', '7', '0', '7', '5', '3', '3', '8', '7', '9',\n",
       "       '3', '1', '3', '8', '3', '7', '1', '7', '9', '8', '9', '5', '7',\n",
       "       '5', '8', '6', '1', '6', '2', '3', '0', '0', '7', '4', '6', '9',\n",
       "       '0', '7', '8', '0', '2', '8', '9', '7', '2', '8', '9', '3', '8',\n",
       "       '0', '4', '5', '2', '3', '7', '0', '3', '0', '5', '3', '6', '2',\n",
       "       '5', '1', '3', '5', '8', '5', '2', '1', '1', '2', '5', '6', '5',\n",
       "       '1', '7', '0', '7', '1', '3', '4', '7', '4', '1', '5', '1', '9',\n",
       "       '4', '0', '6', '7', '6', '8', '3', '1', '3', '7', '1', '1', '0',\n",
       "       '4', '4', '7', '0', '6', '9', '7', '2', '1', '6', '2', '2', '8',\n",
       "       '5', '0', '9', '3', '3', '0', '4', '5', '2', '0', '2', '1', '4',\n",
       "       '3', '1', '4', '4', '2', '3', '0', '7', '2', '6', '1', '5', '4',\n",
       "       '9', '5', '5', '2', '8', '6', '6', '4', '2', '6', '6', '3', '8',\n",
       "       '0', '1', '2', '1', '6', '9', '9', '2', '4', '2', '7', '7', '6',\n",
       "       '7', '6', '5', '3', '5', '2', '2', '4', '1', '5', '5', '7', '0',\n",
       "       '9', '2', '4', '9', '4', '0', '4', '8', '7', '3', '7', '2', '7',\n",
       "       '9', '6', '1', '3', '3', '0', '9', '1', '8', '7', '7', '9', '5',\n",
       "       '8', '2', '1', '9', '9', '6', '1', '8', '3', '2', '9', '9', '5',\n",
       "       '1', '6', '1', '8', '5', '2', '2', '3', '5', '2', '4', '3', '9',\n",
       "       '7', '2', '7', '1', '3', '8', '7', '5', '0', '8', '8', '8', '7',\n",
       "       '4', '2', '6', '5', '8', '6', '5', '0', '7', '6', '0', '4', '1',\n",
       "       '5', '5', '9', '8', '8', '1', '0', '0', '3', '8', '7', '8', '1',\n",
       "       '2', '0', '0', '7', '8', '3', '4', '4', '5', '4', '6', '8', '7',\n",
       "       '4', '2', '3', '2', '3', '9', '4', '3', '9', '8', '8', '7', '2',\n",
       "       '2', '6', '9', '4', '9', '4', '3', '0', '4', '0', '6', '1', '3',\n",
       "       '1', '1', '5', '7', '1', '3', '9', '4', '7', '1', '0', '1', '8',\n",
       "       '4', '1', '4', '7', '2', '4', '1', '9', '6', '0', '1'],\n",
       "      dtype=object)"
      ]
     },
     "execution_count": 21,
     "metadata": {},
     "output_type": "execute_result"
    }
   ],
   "source": [
    "%time my_clf.predict(X_test)"
   ]
  },
  {
   "cell_type": "code",
   "execution_count": 22,
   "metadata": {},
   "outputs": [
    {
     "name": "stdout",
     "output_type": "stream",
     "text": [
      "CPU times: user 1min 6s, sys: 0 ns, total: 1min 6s\n",
      "Wall time: 1min 6s\n"
     ]
    },
    {
     "data": {
      "text/plain": [
       "array([[0., 0., 0., ..., 0., 0., 0.],\n",
       "       [1., 0., 0., ..., 0., 0., 0.],\n",
       "       [0., 0., 0., ..., 0., 1., 0.],\n",
       "       ...,\n",
       "       [0., 0., 0., ..., 0., 0., 0.],\n",
       "       [1., 0., 0., ..., 0., 0., 0.],\n",
       "       [0., 1., 0., ..., 0., 0., 0.]])"
      ]
     },
     "execution_count": 22,
     "metadata": {},
     "output_type": "execute_result"
    }
   ],
   "source": [
    "%time clf.predict_proba(X_test)"
   ]
  },
  {
   "cell_type": "code",
   "execution_count": 23,
   "metadata": {},
   "outputs": [
    {
     "name": "stdout",
     "output_type": "stream",
     "text": [
      "CPU times: user 4.49 s, sys: 360 ms, total: 4.85 s\n",
      "Wall time: 1.32 s\n"
     ]
    },
    {
     "data": {
      "text/plain": [
       "array([[0., 0., 0., ..., 0., 0., 0.],\n",
       "       [1., 0., 0., ..., 0., 0., 0.],\n",
       "       [0., 0., 0., ..., 0., 1., 0.],\n",
       "       ...,\n",
       "       [0., 0., 0., ..., 0., 0., 0.],\n",
       "       [1., 0., 0., ..., 0., 0., 0.],\n",
       "       [0., 1., 0., ..., 0., 0., 0.]])"
      ]
     },
     "execution_count": 23,
     "metadata": {},
     "output_type": "execute_result"
    }
   ],
   "source": [
    "%time my_clf.predict_proba(X_test)"
   ]
  },
  {
   "cell_type": "code",
   "execution_count": 24,
   "metadata": {},
   "outputs": [
    {
     "data": {
      "text/plain": [
       "0.9728571428571429"
      ]
     },
     "execution_count": 24,
     "metadata": {},
     "output_type": "execute_result"
    }
   ],
   "source": [
    "clf.score(X_test, y_test)"
   ]
  },
  {
   "cell_type": "code",
   "execution_count": 25,
   "metadata": {},
   "outputs": [
    {
     "data": {
      "text/plain": [
       "0.9728571428571429"
      ]
     },
     "execution_count": 25,
     "metadata": {},
     "output_type": "execute_result"
    }
   ],
   "source": [
    "my_clf.score(X_test, y_test)"
   ]
  },
  {
   "cell_type": "markdown",
   "metadata": {},
   "source": [
    "Задание 4"
   ]
  },
  {
   "cell_type": "code",
   "execution_count": 26,
   "metadata": {},
   "outputs": [],
   "source": [
    "clf = KNeighborsClassifier(n_neighbors=2, algorithm='kd_tree')\n",
    "my_clf = MyKNeighborsClassifier(n_neighbors=2, algorithm='kd_tree')"
   ]
  },
  {
   "cell_type": "code",
   "execution_count": 27,
   "metadata": {},
   "outputs": [],
   "source": [
    "X_train, X_test, y_train, y_test = train_test_split(mnist.data, mnist.target, test_size=0.01, stratify=mnist.target)"
   ]
  },
  {
   "cell_type": "code",
   "execution_count": 28,
   "metadata": {},
   "outputs": [
    {
     "name": "stdout",
     "output_type": "stream",
     "text": [
      "CPU times: user 28.5 s, sys: 28.1 ms, total: 28.5 s\n",
      "Wall time: 28.5 s\n"
     ]
    },
    {
     "data": {
      "text/plain": [
       "KNeighborsClassifier(algorithm='kd_tree', leaf_size=30, metric='minkowski',\n",
       "           metric_params=None, n_jobs=None, n_neighbors=2, p=2,\n",
       "           weights='uniform')"
      ]
     },
     "execution_count": 28,
     "metadata": {},
     "output_type": "execute_result"
    }
   ],
   "source": [
    "%time clf.fit(X_train, y_train)"
   ]
  },
  {
   "cell_type": "code",
   "execution_count": 29,
   "metadata": {},
   "outputs": [
    {
     "name": "stdout",
     "output_type": "stream",
     "text": [
      "CPU times: user 31.1 s, sys: 536 ms, total: 31.7 s\n",
      "Wall time: 30.5 s\n"
     ]
    }
   ],
   "source": [
    "%time my_clf.fit(X_train, y_train)"
   ]
  },
  {
   "cell_type": "code",
   "execution_count": 30,
   "metadata": {},
   "outputs": [
    {
     "name": "stdout",
     "output_type": "stream",
     "text": [
      "CPU times: user 1min 6s, sys: 15.7 ms, total: 1min 6s\n",
      "Wall time: 1min 6s\n"
     ]
    },
    {
     "data": {
      "text/plain": [
       "array(['9', '5', '7', '1', '2', '0', '0', '8', '3', '4', '1', '8', '8',\n",
       "       '7', '2', '2', '5', '4', '6', '5', '5', '2', '5', '8', '7', '6',\n",
       "       '4', '3', '9', '3', '8', '6', '3', '6', '3', '0', '9', '2', '7',\n",
       "       '0', '0', '6', '5', '1', '6', '0', '6', '8', '1', '7', '1', '1',\n",
       "       '7', '4', '7', '4', '0', '5', '8', '2', '3', '5', '9', '6', '3',\n",
       "       '3', '4', '4', '4', '3', '6', '8', '7', '6', '6', '3', '6', '2',\n",
       "       '6', '7', '0', '2', '0', '6', '0', '6', '7', '0', '6', '3', '8',\n",
       "       '0', '7', '3', '3', '0', '7', '4', '3', '6', '6', '1', '7', '9',\n",
       "       '4', '3', '6', '3', '2', '1', '7', '4', '8', '1', '5', '1', '4',\n",
       "       '9', '1', '1', '9', '8', '0', '9', '1', '0', '9', '2', '8', '9',\n",
       "       '4', '7', '7', '3', '0', '1', '4', '4', '6', '4', '6', '2', '9',\n",
       "       '5', '0', '2', '0', '4', '1', '7', '1', '6', '9', '6', '4', '7',\n",
       "       '4', '2', '4', '6', '0', '9', '1', '1', '4', '0', '2', '7', '6',\n",
       "       '4', '3', '4', '9', '8', '0', '8', '3', '6', '6', '4', '1', '0',\n",
       "       '1', '0', '8', '6', '2', '2', '1', '8', '5', '3', '8', '6', '3',\n",
       "       '7', '8', '2', '8', '2', '8', '1', '4', '4', '7', '7', '7', '9',\n",
       "       '3', '8', '2', '5', '0', '9', '1', '2', '7', '0', '5', '6', '5',\n",
       "       '7', '9', '3', '2', '6', '7', '1', '9', '8', '9', '7', '9', '3',\n",
       "       '6', '8', '8', '4', '5', '1', '2', '9', '1', '9', '0', '2', '9',\n",
       "       '9', '9', '1', '9', '4', '4', '6', '8', '8', '9', '4', '4', '2',\n",
       "       '1', '8', '4', '7', '3', '2', '6', '0', '1', '5', '2', '5', '5',\n",
       "       '7', '0', '0', '3', '5', '4', '1', '0', '7', '1', '2', '7', '9',\n",
       "       '5', '6', '3', '7', '8', '9', '4', '4', '3', '5', '0', '7', '4',\n",
       "       '6', '1', '6', '9', '1', '4', '5', '4', '0', '9', '2', '3', '2',\n",
       "       '4', '2', '2', '4', '2', '7', '9', '8', '9', '6', '8', '0', '7',\n",
       "       '6', '9', '1', '8', '9', '0', '3', '4', '2', '8', '8', '2', '7',\n",
       "       '1', '7', '2', '8', '6', '5', '3', '3', '5', '7', '1', '9', '1',\n",
       "       '8', '7', '1', '5', '0', '4', '3', '7', '8', '5', '6', '3', '7',\n",
       "       '3', '1', '0', '0', '8', '5', '9', '8', '7', '9', '4', '7', '2',\n",
       "       '3', '2', '1', '8', '4', '9', '3', '4', '5', '8', '7', '3', '4',\n",
       "       '7', '5', '7', '8', '9', '9', '7', '3', '9', '7', '5', '1', '5',\n",
       "       '8', '2', '3', '2', '2', '9', '6', '1', '0', '2', '5', '7', '8',\n",
       "       '1', '4', '1', '4', '4', '8', '2', '1', '3', '4', '7', '9', '2',\n",
       "       '9', '2', '3', '0', '1', '5', '5', '3', '5', '2', '8', '3', '4',\n",
       "       '0', '2', '7', '9', '6', '0', '3', '8', '4', '2', '8', '8', '6',\n",
       "       '6', '4', '2', '7', '4', '9', '4', '7', '1', '4', '0', '1', '6',\n",
       "       '4', '1', '6', '8', '0', '3', '3', '8', '0', '5', '2', '4', '3',\n",
       "       '1', '8', '3', '4', '5', '1', '4', '1', '6', '0', '2', '5', '0',\n",
       "       '6', '1', '2', '4', '1', '6', '2', '8', '2', '1', '5', '1', '5',\n",
       "       '5', '5', '0', '7', '5', '6', '9', '2', '9', '5', '0', '2', '7',\n",
       "       '6', '3', '8', '8', '1', '6', '2', '5', '9', '7', '0', '2', '0',\n",
       "       '3', '1', '8', '1', '1', '1', '1', '8', '3', '3', '2', '6', '3',\n",
       "       '1', '2', '9', '6', '5', '5', '3', '0', '4', '0', '7', '0', '6',\n",
       "       '2', '5', '9', '7', '7', '5', '5', '2', '0', '9', '5', '2', '8',\n",
       "       '1', '7', '3', '1', '5', '0', '6', '2', '4', '0', '3', '0', '5',\n",
       "       '7', '0', '1', '3', '1', '5', '8', '0', '6', '3', '9', '1', '3',\n",
       "       '9', '7', '0', '5', '5', '2', '6', '1', '6', '7', '2', '1', '0',\n",
       "       '0', '2', '8', '7', '9', '0', '2', '0', '9', '2', '9', '4', '0',\n",
       "       '3', '2', '1', '8', '3', '6', '7', '9', '6', '3', '4', '5', '1',\n",
       "       '4', '1', '5', '7', '7', '7', '7', '5', '1', '3', '7', '3', '2',\n",
       "       '7', '3', '5', '6', '6', '5', '9', '3', '1', '3', '0', '6', '0',\n",
       "       '0', '7', '4', '1', '1', '3', '1', '7', '9', '6', '6', '6', '0',\n",
       "       '4', '4', '2', '8', '9', '9', '2', '8', '5', '8', '6', '2', '9',\n",
       "       '6', '9', '4', '1', '9', '5', '1', '5', '3', '4', '0'],\n",
       "      dtype=object)"
      ]
     },
     "execution_count": 30,
     "metadata": {},
     "output_type": "execute_result"
    }
   ],
   "source": [
    "%time clf.predict(X_test)"
   ]
  },
  {
   "cell_type": "code",
   "execution_count": 31,
   "metadata": {},
   "outputs": [
    {
     "name": "stdout",
     "output_type": "stream",
     "text": [
      "CPU times: user 56.5 s, sys: 97 µs, total: 56.5 s\n",
      "Wall time: 55.9 s\n"
     ]
    },
    {
     "data": {
      "text/plain": [
       "array(['9', '5', '7', '1', '2', '0', '0', '8', '3', '4', '1', '8', '8',\n",
       "       '7', '2', '2', '5', '4', '6', '5', '5', '2', '5', '8', '7', '6',\n",
       "       '4', '3', '9', '3', '8', '6', '3', '6', '3', '0', '9', '2', '7',\n",
       "       '0', '0', '6', '5', '1', '6', '0', '6', '8', '1', '7', '1', '1',\n",
       "       '7', '4', '7', '4', '0', '5', '8', '2', '3', '5', '9', '6', '3',\n",
       "       '3', '4', '4', '4', '3', '6', '8', '7', '6', '6', '3', '6', '2',\n",
       "       '6', '7', '0', '2', '0', '6', '0', '6', '7', '0', '6', '3', '8',\n",
       "       '0', '7', '3', '3', '0', '7', '4', '3', '6', '6', '1', '7', '9',\n",
       "       '4', '3', '6', '3', '2', '1', '7', '4', '8', '1', '5', '1', '4',\n",
       "       '9', '1', '1', '9', '8', '0', '9', '1', '0', '9', '2', '8', '9',\n",
       "       '4', '7', '7', '3', '0', '1', '4', '4', '6', '4', '6', '2', '9',\n",
       "       '5', '0', '2', '0', '4', '1', '7', '1', '6', '9', '6', '4', '7',\n",
       "       '4', '2', '4', '6', '0', '9', '1', '1', '4', '0', '2', '7', '6',\n",
       "       '4', '3', '4', '9', '8', '0', '8', '3', '6', '6', '4', '1', '0',\n",
       "       '1', '0', '8', '6', '2', '2', '1', '8', '5', '3', '8', '6', '3',\n",
       "       '7', '8', '2', '8', '2', '8', '1', '4', '4', '7', '7', '7', '9',\n",
       "       '3', '8', '2', '5', '0', '9', '1', '2', '7', '0', '5', '6', '5',\n",
       "       '7', '9', '3', '2', '6', '7', '1', '9', '8', '9', '7', '9', '3',\n",
       "       '6', '8', '8', '4', '5', '1', '2', '9', '1', '9', '0', '2', '9',\n",
       "       '9', '9', '1', '9', '4', '4', '6', '8', '8', '9', '4', '4', '2',\n",
       "       '1', '8', '4', '7', '3', '2', '6', '0', '1', '5', '2', '5', '5',\n",
       "       '7', '0', '0', '3', '5', '4', '1', '0', '7', '1', '2', '7', '9',\n",
       "       '5', '6', '3', '7', '8', '9', '4', '4', '3', '5', '0', '7', '4',\n",
       "       '6', '1', '6', '9', '1', '4', '5', '4', '0', '9', '2', '3', '2',\n",
       "       '4', '2', '2', '4', '2', '7', '9', '8', '9', '6', '8', '0', '7',\n",
       "       '6', '9', '1', '8', '9', '0', '3', '4', '2', '8', '8', '2', '7',\n",
       "       '1', '7', '2', '8', '6', '5', '3', '3', '5', '7', '1', '9', '1',\n",
       "       '8', '7', '1', '5', '0', '4', '3', '7', '8', '5', '6', '3', '7',\n",
       "       '3', '1', '0', '0', '8', '5', '9', '8', '7', '9', '4', '7', '2',\n",
       "       '3', '2', '1', '8', '4', '9', '3', '4', '5', '8', '7', '3', '4',\n",
       "       '7', '5', '7', '8', '9', '9', '7', '3', '9', '7', '5', '1', '5',\n",
       "       '8', '2', '3', '2', '2', '9', '6', '1', '0', '2', '5', '7', '8',\n",
       "       '1', '4', '1', '4', '4', '8', '2', '1', '3', '4', '7', '9', '2',\n",
       "       '9', '2', '3', '0', '1', '5', '5', '3', '5', '2', '8', '3', '4',\n",
       "       '0', '2', '7', '9', '6', '0', '3', '8', '4', '2', '8', '8', '6',\n",
       "       '6', '4', '2', '7', '4', '9', '4', '7', '1', '4', '0', '1', '6',\n",
       "       '4', '1', '6', '8', '0', '3', '3', '8', '0', '5', '2', '4', '3',\n",
       "       '1', '8', '3', '4', '5', '1', '4', '1', '6', '0', '2', '5', '0',\n",
       "       '6', '1', '2', '4', '1', '6', '2', '8', '2', '1', '5', '1', '5',\n",
       "       '5', '5', '0', '7', '5', '6', '9', '2', '9', '5', '0', '2', '7',\n",
       "       '6', '3', '8', '8', '1', '6', '2', '5', '9', '7', '0', '2', '0',\n",
       "       '3', '1', '8', '1', '1', '1', '1', '8', '3', '3', '2', '6', '3',\n",
       "       '1', '2', '9', '6', '5', '5', '3', '0', '4', '0', '7', '0', '6',\n",
       "       '2', '5', '9', '7', '7', '5', '5', '2', '0', '9', '5', '2', '8',\n",
       "       '1', '7', '3', '1', '5', '0', '6', '2', '4', '0', '3', '0', '5',\n",
       "       '7', '0', '1', '3', '1', '5', '8', '0', '6', '3', '9', '1', '3',\n",
       "       '9', '7', '0', '5', '5', '2', '6', '1', '6', '7', '2', '1', '0',\n",
       "       '0', '2', '8', '7', '9', '0', '2', '0', '9', '2', '9', '4', '0',\n",
       "       '3', '2', '1', '8', '3', '6', '7', '9', '6', '3', '4', '5', '1',\n",
       "       '4', '1', '5', '7', '7', '7', '7', '5', '1', '3', '7', '3', '2',\n",
       "       '7', '3', '5', '6', '6', '5', '9', '3', '1', '3', '0', '6', '0',\n",
       "       '0', '7', '4', '1', '1', '3', '1', '7', '9', '6', '6', '6', '0',\n",
       "       '4', '4', '2', '8', '9', '9', '2', '8', '5', '8', '6', '2', '9',\n",
       "       '6', '9', '4', '1', '9', '5', '1', '5', '3', '4', '0'],\n",
       "      dtype=object)"
      ]
     },
     "execution_count": 31,
     "metadata": {},
     "output_type": "execute_result"
    }
   ],
   "source": [
    "%time my_clf.predict(X_test)"
   ]
  },
  {
   "cell_type": "code",
   "execution_count": 32,
   "metadata": {},
   "outputs": [
    {
     "name": "stdout",
     "output_type": "stream",
     "text": [
      "CPU times: user 1min 6s, sys: 0 ns, total: 1min 6s\n",
      "Wall time: 1min 6s\n"
     ]
    },
    {
     "data": {
      "text/plain": [
       "array([[0., 0., 0., ..., 0., 0., 1.],\n",
       "       [0., 0., 0., ..., 0., 0., 0.],\n",
       "       [0., 0., 0., ..., 1., 0., 0.],\n",
       "       ...,\n",
       "       [0., 0., 0., ..., 0., 0., 0.],\n",
       "       [0., 0., 0., ..., 0., 0., 0.],\n",
       "       [1., 0., 0., ..., 0., 0., 0.]])"
      ]
     },
     "execution_count": 32,
     "metadata": {},
     "output_type": "execute_result"
    }
   ],
   "source": [
    "%time clf.predict_proba(X_test)"
   ]
  },
  {
   "cell_type": "code",
   "execution_count": 33,
   "metadata": {},
   "outputs": [
    {
     "name": "stdout",
     "output_type": "stream",
     "text": [
      "CPU times: user 56.4 s, sys: 3.94 ms, total: 56.4 s\n",
      "Wall time: 55.8 s\n"
     ]
    },
    {
     "data": {
      "text/plain": [
       "array([[0., 0., 0., ..., 0., 0., 1.],\n",
       "       [0., 0., 0., ..., 0., 0., 0.],\n",
       "       [0., 0., 0., ..., 1., 0., 0.],\n",
       "       ...,\n",
       "       [0., 0., 0., ..., 0., 0., 0.],\n",
       "       [0., 0., 0., ..., 0., 0., 0.],\n",
       "       [1., 0., 0., ..., 0., 0., 0.]])"
      ]
     },
     "execution_count": 33,
     "metadata": {},
     "output_type": "execute_result"
    }
   ],
   "source": [
    "%time my_clf.predict_proba(X_test)"
   ]
  },
  {
   "cell_type": "code",
   "execution_count": 34,
   "metadata": {},
   "outputs": [
    {
     "data": {
      "text/plain": [
       "0.9728571428571429"
      ]
     },
     "execution_count": 34,
     "metadata": {},
     "output_type": "execute_result"
    }
   ],
   "source": [
    "clf.score(X_test, y_test)"
   ]
  },
  {
   "cell_type": "code",
   "execution_count": 35,
   "metadata": {},
   "outputs": [
    {
     "data": {
      "text/plain": [
       "0.9728571428571429"
      ]
     },
     "execution_count": 35,
     "metadata": {},
     "output_type": "execute_result"
    }
   ],
   "source": [
    "my_clf.score(X_test, y_test)"
   ]
  },
  {
   "cell_type": "markdown",
   "metadata": {},
   "source": [
    "Задание 5"
   ]
  },
  {
   "cell_type": "code",
   "execution_count": null,
   "metadata": {},
   "outputs": [],
   "source": [
    "# seaborn\n",
    "Библиотека для построения графиков\n",
    "# matplotlib\n",
    "Библиотека для построения графиков\n",
    "# train_test_split\n",
    "Функция для разделения датасета на тренировочную и тестовую выборку в заданной пропорции\n",
    "# Pipelin%load_ext e (from sklearn.pipeline import Pipeline)\n",
    "Этот класс позволяет инкапсулировать внутри себя набор трансформаторов датасета и модель предсказания,\n",
    "и получить для них общий интерфейс \n",
    "# StandardScaler (from sklearn.preprocessing import StandardScaler)\n",
    "Преобразование вида z = (x - u) / s, где u - это среднее значение, а s - стандартное отклонение\n",
    "# ClassifierMixin\n",
    "Базовый класс для классификаторов, реализующий метод score, возвращающий среднюю точность предсказания\n",
    "# NeighborsBase\n",
    "Базовый класс для моделей, основанных на алгоритме k ближайших соседей,\n",
    "реализующий методы _fit и _check_algorithm_metric\n",
    "# KNeighborsMixin\n",
    "Базовый класс для моделей, основанных на алгоритме k ближайших соседей, реализующий методы для нахождения\n",
    "индексов соседей, расстояний до них и для построения графа по ним\n",
    "# SupervisedIntegerMixin\n",
    "Реализует метод fit на основе метода _fit, производя обработку меток"
   ]
  }
 ],
 "metadata": {
  "kernelspec": {
   "display_name": "Python 3",
   "language": "python",
   "name": "python3"
  },
  "language_info": {
   "codemirror_mode": {
    "name": "ipython",
    "version": 3
   },
   "file_extension": ".py",
   "mimetype": "text/x-python",
   "name": "python",
   "nbconvert_exporter": "python",
   "pygments_lexer": "ipython3",
   "version": "3.7.1"
  }
 },
 "nbformat": 4,
 "nbformat_minor": 2
}
