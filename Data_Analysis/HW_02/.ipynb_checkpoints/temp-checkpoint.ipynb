{
 "cells": [
  {
   "cell_type": "code",
   "execution_count": 1,
   "metadata": {},
   "outputs": [],
   "source": [
    "import functools\n",
    "import time\n",
    "import random"
   ]
  },
  {
   "cell_type": "code",
   "execution_count": 57,
   "metadata": {},
   "outputs": [],
   "source": [
    "def counter(func):\n",
    "    first_call = [True, 0]\n",
    "    @functools.wraps(func)\n",
    "    def wrapper(*args, **kwargs):\n",
    "        temp = False\n",
    "        if first_call[0]:\n",
    "            first_call[1] = 1\n",
    "            wrapper.rdepth = 1\n",
    "            wrapper.ncalls = 0\n",
    "            first_call[0] = False\n",
    "            temp = True\n",
    "        wrapper.rdepth = max(first_call[1], wrapper.rdepth)\n",
    "        first_call[1] += 1\n",
    "        res = func(*args, **kwargs)\n",
    "        first_call[1] -= 1\n",
    "        wrapper.ncalls += 1\n",
    "        if temp:\n",
    "            first_call[0] = True\n",
    "        return res\n",
    "    return wrapper"
   ]
  },
  {
   "cell_type": "code",
   "execution_count": 58,
   "metadata": {},
   "outputs": [],
   "source": [
    "@counter\n",
    "def func2(n, steps):\n",
    "    if steps == 0:\n",
    "        return\n",
    "\n",
    "    func2(n + 1, steps - 1)\n",
    "    func2(n - 1, steps - 1)"
   ]
  },
  {
   "cell_type": "code",
   "execution_count": 60,
   "metadata": {},
   "outputs": [
    {
     "name": "stdout",
     "output_type": "stream",
     "text": [
      "15 4\n"
     ]
    }
   ],
   "source": [
    "func2(0, 3)\n",
    "print(func2.ncalls, func2.rdepth)"
   ]
  },
  {
   "cell_type": "code",
   "execution_count": 44,
   "metadata": {},
   "outputs": [
    {
     "data": {
      "text/plain": [
       "[10, 9, 8, 7, 6, 5, 4, 3, 2]"
      ]
     },
     "execution_count": 44,
     "metadata": {},
     "output_type": "execute_result"
    }
   ],
   "source": []
  },
  {
   "cell_type": "code",
   "execution_count": null,
   "metadata": {},
   "outputs": [],
   "source": []
  },
  {
   "cell_type": "code",
   "execution_count": null,
   "metadata": {},
   "outputs": [],
   "source": []
  },
  {
   "cell_type": "code",
   "execution_count": 48,
   "metadata": {},
   "outputs": [],
   "source": [
    "def product(a):\n",
    "    counts = [0 for i in range(len(a))]\n",
    "    while(counts[0] < len(a[0])):\n",
    "        yield tuple(a[i][j] for i, j in enumerate(counts))\n",
    "        counts[-1] += 1\n",
    "        for i in range(len(counts) - 1, 0, -1):\n",
    "            if counts[i] == len(a[i]):\n",
    "                counts[i] = 0\n",
    "                counts[i - 1] += 1"
   ]
  },
  {
   "cell_type": "code",
   "execution_count": 50,
   "metadata": {},
   "outputs": [
    {
     "name": "stdout",
     "output_type": "stream",
     "text": [
      "(0, 2, 4)\n",
      "(0, 3, 4)\n",
      "(1, 2, 4)\n",
      "(1, 3, 4)\n"
     ]
    }
   ],
   "source": [
    "a = [[0, 1], [2, 3], [4]]\n",
    "for e in product(a):\n",
    "    print(e)"
   ]
  },
  {
   "cell_type": "code",
   "execution_count": null,
   "metadata": {},
   "outputs": [],
   "source": []
  }
 ],
 "metadata": {
  "kernelspec": {
   "display_name": "Python 3",
   "language": "python",
   "name": "python3"
  },
  "language_info": {
   "codemirror_mode": {
    "name": "ipython",
    "version": 3
   },
   "file_extension": ".py",
   "mimetype": "text/x-python",
   "name": "python",
   "nbconvert_exporter": "python",
   "pygments_lexer": "ipython3",
   "version": "3.7.1"
  }
 },
 "nbformat": 4,
 "nbformat_minor": 2
}
