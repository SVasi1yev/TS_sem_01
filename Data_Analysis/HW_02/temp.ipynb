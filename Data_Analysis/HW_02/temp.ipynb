{
 "cells": [
  {
   "cell_type": "code",
   "execution_count": 290,
   "metadata": {},
   "outputs": [],
   "source": [
    "import copy\n",
    "\n",
    "class FragileDict:\n",
    "    def __init__(self, data = None):\n",
    "        if data is not None:\n",
    "            self._data = copy.deepcopy(data)\n",
    "        else:\n",
    "            self._data = {}\n",
    "        self._lock = True\n",
    "        \n",
    "    def __getitem__(self, key):\n",
    "        if self._lock:\n",
    "            if key not in self._data:\n",
    "                raise KeyError()\n",
    "            return copy.deepcopy(self._data[key])\n",
    "        else:\n",
    "            if key not in self._temp_data:\n",
    "                raise KeyError()\n",
    "            return self._temp_data[key]\n",
    "    \n",
    "    def __setitem__(self, key, value):\n",
    "        if self._lock:\n",
    "            raise RuntimeError(\"Protected state\")\n",
    "        else:\n",
    "            self._temp_data[key] = value\n",
    "            \n",
    "    def __contains__(self, key):\n",
    "        if self._lock:\n",
    "            return key in self._data\n",
    "        else:\n",
    "            return key in self._temp_data\n",
    "            \n",
    "    def __enter__(self):\n",
    "        self._lock = False\n",
    "        self._temp_data = copy.deepcopy(self._data)\n",
    "        return self\n",
    "    \n",
    "    def __exit__(self, exc_type, exc_value, traceback):\n",
    "        if exc_type is not None:\n",
    "            del self._temp_data\n",
    "            print(\"Exception has been suppressed.\")\n",
    "            self._lock = True\n",
    "            return True\n",
    "        else:\n",
    "            self._data = copy.deepcopy(self._temp_data)\n",
    "            del self._temp_data\n",
    "            self._lock = True\n",
    "            return True"
   ]
  },
  {
   "cell_type": "code",
   "execution_count": 291,
   "metadata": {},
   "outputs": [
    {
     "name": "stdout",
     "output_type": "stream",
     "text": [
      "6\n",
      "7\n"
     ]
    }
   ],
   "source": [
    "d = FragileDict({'key': 5})\n",
    "\n",
    "with d:\n",
    "    d['key'] = 6\n",
    "    d['ord'] = 7\n",
    "\n",
    "print(d['key'])\n",
    "print(d['ord'])"
   ]
  },
  {
   "cell_type": "code",
   "execution_count": 292,
   "metadata": {},
   "outputs": [
    {
     "name": "stdout",
     "output_type": "stream",
     "text": [
      "Protected state\n",
      "Protected state\n",
      "True\n",
      "True\n"
     ]
    }
   ],
   "source": [
    "d = FragileDict({'key': 5})\n",
    "\n",
    "try:\n",
    "    d['key'] = 6\n",
    "except RuntimeError as e:\n",
    "    print(e)\n",
    "\n",
    "try:\n",
    "    d['ord'] = 7\n",
    "except RuntimeError as e:\n",
    "    print(e)\n",
    "\n",
    "print(d['key'] == 5)\n",
    "print('ord' not in d)"
   ]
  },
  {
   "cell_type": "code",
   "execution_count": 293,
   "metadata": {},
   "outputs": [
    {
     "name": "stdout",
     "output_type": "stream",
     "text": [
      "6\n",
      "True\n",
      "Exception has been suppressed.\n",
      "5\n",
      "True\n"
     ]
    }
   ],
   "source": [
    "d = FragileDict({'key': 5})\n",
    "\n",
    "with d:\n",
    "    d['key'] = 6\n",
    "    print(d['key'])\n",
    "    d['ord'] = 7\n",
    "    print('ord' in d and d['ord'] == 7)\n",
    "    raise Exception()\n",
    "\n",
    "print(d['key'])\n",
    "print('ord' not in d)\n"
   ]
  },
  {
   "cell_type": "code",
   "execution_count": 294,
   "metadata": {},
   "outputs": [
    {
     "name": "stdout",
     "output_type": "stream",
     "text": [
      "True\n"
     ]
    }
   ],
   "source": [
    "d = FragileDict({'key': []})\n",
    "\n",
    "with d:\n",
    "    a = d['key']\n",
    "    d['key'].append(10)\n",
    "    a.append(10)\n",
    "\n",
    "a.append(10)\n",
    "print(a == [10, 10, 10] and d['key'] == [10, 10])"
   ]
  },
  {
   "cell_type": "code",
   "execution_count": null,
   "metadata": {},
   "outputs": [],
   "source": []
  },
  {
   "cell_type": "code",
   "execution_count": null,
   "metadata": {},
   "outputs": [],
   "source": []
  }
 ],
 "metadata": {
  "kernelspec": {
   "display_name": "Python 3",
   "language": "python",
   "name": "python3"
  },
  "language_info": {
   "codemirror_mode": {
    "name": "ipython",
    "version": 3
   },
   "file_extension": ".py",
   "mimetype": "text/x-python",
   "name": "python",
   "nbconvert_exporter": "python",
   "pygments_lexer": "ipython3",
   "version": "3.7.1"
  }
 },
 "nbformat": 4,
 "nbformat_minor": 2
}
