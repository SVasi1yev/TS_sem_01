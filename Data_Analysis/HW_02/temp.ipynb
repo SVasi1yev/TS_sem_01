{
 "cells": [
  {
   "cell_type": "code",
   "execution_count": 91,
   "metadata": {},
   "outputs": [],
   "source": [
    "def brackets1(n, counter_open = 0, counter_close = 0, ans = ''):\n",
    "    if counter_open + counter_close == 2 * n:\n",
    "        yield ans\n",
    "    if counter_open < n:\n",
    "        yield from brackets1(n, counter_open + 1, counter_close, ans + '(')\n",
    "    if counter_open > counter_close:\n",
    "        yield from brackets1(n, counter_open, counter_close + 1, ans + ')')"
   ]
  },
  {
   "cell_type": "code",
   "execution_count": 93,
   "metadata": {},
   "outputs": [
    {
     "name": "stdout",
     "output_type": "stream",
     "text": [
      "(((())))\n",
      "((()()))\n",
      "((())())\n",
      "((()))()\n",
      "(()(()))\n",
      "(()()())\n",
      "(()())()\n",
      "(())(())\n",
      "(())()()\n",
      "()((()))\n",
      "()(()())\n",
      "()(())()\n",
      "()()(())\n",
      "()()()()\n"
     ]
    }
   ],
   "source": [
    "for e in brackets1(4):\n",
    "    print(e)"
   ]
  },
  {
   "cell_type": "code",
   "execution_count": 86,
   "metadata": {},
   "outputs": [],
   "source": [
    "def gen(n, counter_open = 0, counter_close = 0, ans = ''):\n",
    "    if counter_open + counter_close == 2 * n:\n",
    "        print(ans)\n",
    "        return\n",
    "    if counter_open < n:\n",
    "        gen(n, counter_open + 1, counter_close, ans + '(')\n",
    "    if counter_open > counter_close:\n",
    "        gen(n, counter_open, counter_close + 1, ans + ')')"
   ]
  },
  {
   "cell_type": "code",
   "execution_count": 87,
   "metadata": {},
   "outputs": [
    {
     "name": "stdout",
     "output_type": "stream",
     "text": [
      "(((())))\n",
      "((()()))\n",
      "((())())\n",
      "((()))()\n",
      "(()(()))\n",
      "(()()())\n",
      "(()())()\n",
      "(())(())\n",
      "(())()()\n",
      "()((()))\n",
      "()(()())\n",
      "()(())()\n",
      "()()(())\n",
      "()()()()\n"
     ]
    }
   ],
   "source": [
    "gen(4)"
   ]
  },
  {
   "cell_type": "code",
   "execution_count": null,
   "metadata": {},
   "outputs": [],
   "source": []
  }
 ],
 "metadata": {
  "kernelspec": {
   "display_name": "Python 3",
   "language": "python",
   "name": "python3"
  },
  "language_info": {
   "codemirror_mode": {
    "name": "ipython",
    "version": 3
   },
   "file_extension": ".py",
   "mimetype": "text/x-python",
   "name": "python",
   "nbconvert_exporter": "python",
   "pygments_lexer": "ipython3",
   "version": "3.7.1"
  }
 },
 "nbformat": 4,
 "nbformat_minor": 2
}
