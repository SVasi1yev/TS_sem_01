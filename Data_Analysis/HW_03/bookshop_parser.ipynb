{
 "cells": [
  {
   "cell_type": "code",
   "execution_count": 1,
   "metadata": {},
   "outputs": [],
   "source": [
    "from selenium import webdriver\n",
    "from time import sleep"
   ]
  },
  {
   "cell_type": "code",
   "execution_count": 2,
   "metadata": {},
   "outputs": [],
   "source": [
    "authors = {\n",
    "    \"Дарья Донцова\":  29369,\n",
    "    \"Джеймс Роллинс\": 29442,\n",
    "    \"Макс Фрай\":      102994,\n",
    "    \"Эрин Хантер\":    26149,\n",
    "    \"Дмитрий Емец\":   35952\n",
    "}"
   ]
  },
  {
   "cell_type": "code",
   "execution_count": 3,
   "metadata": {},
   "outputs": [],
   "source": [
    "def wait_a_sec():\n",
    "    sleep(2)"
   ]
  },
  {
   "cell_type": "code",
   "execution_count": 4,
   "metadata": {},
   "outputs": [
    {
     "name": "stdout",
     "output_type": "stream",
     "text": [
      "https://www.bookvoed.ru/author/books?id=29369\n",
      "--click\n",
      "https://www.bookvoed.ru/author/books?id=29442\n",
      "https://www.bookvoed.ru/author/books?id=102994\n",
      "https://www.bookvoed.ru/author/books?id=26149\n",
      "https://www.bookvoed.ru/author/books?id=35952\n",
      "1773 books\n"
     ]
    }
   ],
   "source": [
    "books_id = []\n",
    "\n",
    "with webdriver.Firefox() as driver:\n",
    "    for author_name, author_id in authors.items():\n",
    "        url = f\"https://www.bookvoed.ru/author/books?id={author_id}\"\n",
    "        print(url)\n",
    "        driver.get(url)\n",
    "        wait_a_sec()\n",
    "        old_height = 0\n",
    "        while True:\n",
    "            wait_a_sec()\n",
    "            new_height = driver.execute_script(\"return document.body.scrollHeight\")\n",
    "            while old_height < new_height:\n",
    "                driver.execute_script(\"window.scrollTo(0,document.body.scrollHeight)\")\n",
    "                wait_a_sec()\n",
    "                old_height = new_height\n",
    "                new_height = driver.execute_script(\"return document.body.scrollHeight\")\n",
    "            buttom = driver.find_elements_by_class_name(\"wy\")\n",
    "            if not buttom:\n",
    "                break\n",
    "            else:\n",
    "                buttom[0].click()\n",
    "                print(\"--click\")\n",
    "        \n",
    "        books = driver.find_elements_by_class_name(\"gf\")\n",
    "        books_id += list(map(lambda x : x.get_attribute(\"data-book\"), books))\n",
    "\n",
    "print(f\"{len(books_id)} books\")"
   ]
  },
  {
   "cell_type": "code",
   "execution_count": 5,
   "metadata": {},
   "outputs": [],
   "source": [
    "import requests\n",
    "from bs4 import BeautifulSoup\n",
    "import re"
   ]
  },
  {
   "cell_type": "code",
   "execution_count": 6,
   "metadata": {},
   "outputs": [],
   "source": [
    "age_codes = {\n",
    "    'ov': '0+',\n",
    "    'pv': '6+',\n",
    "    'qv': '12+',\n",
    "    'rv': '16+',\n",
    "    'sv': '18+'\n",
    "}"
   ]
  },
  {
   "cell_type": "code",
   "execution_count": 7,
   "metadata": {},
   "outputs": [],
   "source": [
    "def get_book_info(book_id):\n",
    "    url = f\"https://www.bookvoed.ru/book?id={book_id}\"\n",
    "    page = requests.get(url)\n",
    "    soup = BeautifulSoup(page.text, 'html.parser')\n",
    "    res = {\"ID\" : book_id}\n",
    "    res[\"Название\"] = soup.find(\"h1\", itemprop=\"name\").contents[0].strip()\n",
    "    res[\"Обложка\"] = soup.find(\"img\", class_=\"tf\").attrs[\"src\"]\n",
    "    res[\"Возраст\"] = age_codes[soup.find(\"div\", class_=\"nM\").attrs[\"class\"][0]]\n",
    "    discr = soup.find(\"div\", class_=\"lw\")\n",
    "    if discr:\n",
    "        res[\"Описание\"] = re.sub(r'\\n', '', soup.find(\"div\", class_=\"lw\").contents[0]).strip()\n",
    "    res['Рейтинг'] = float(soup.find(\"div\", class_=\"af\").attrs['style'].strip('width: ').rstrip('%'))\n",
    "    res[\"Понравилось\"] = re.sub(r'\\n', '', soup.find(\"a\", class_=\"Me\").text).strip()\n",
    "    res[\"В закладки\"] = re.sub(r'\\n', '', soup.find(\"a\", class_=\"Le\").text).strip()\n",
    "    res[\"Не понравилось\"] = re.sub(r'\\n', '', soup.find(\"a\", class_=\"Oe\").text).strip()\n",
    "    price = soup.find(\"div\", class_=\"Hu Wu\")\n",
    "    if price:\n",
    "        res[\"Цена\"] = float(re.sub(r'[^0-9]', '', soup.find(\"div\", class_=\"Hu Wu\").text))\n",
    "    for k, v in map(lambda x: x.text.split(\":\", 1), soup.find_all(\"tr\", class_=\"uw\")):\n",
    "            res[k] = v\n",
    "    \n",
    "    for key in [\"Понравилось\", \"В закладки\", \"Не понравилось\", \"Год\", \"Страниц\", \"Код\", \"Тираж\"]:\n",
    "        if key in res:\n",
    "            if not (res[key] == \"\"):\n",
    "                res[key] = int(res[key])\n",
    "            else:\n",
    "                res[key] = 0\n",
    "    \n",
    "    return res"
   ]
  },
  {
   "cell_type": "code",
   "execution_count": 8,
   "metadata": {},
   "outputs": [],
   "source": [
    "from multiprocessing import Pool, Lock, Value\n",
    "import pandas as pd"
   ]
  },
  {
   "cell_type": "code",
   "execution_count": 9,
   "metadata": {},
   "outputs": [],
   "source": [
    "mutex = Lock()\n",
    "n_processed = Value('i', 0)\n",
    "\n",
    "def wrapper(book_id):\n",
    "    res = get_book_info(book_id)\n",
    "    with mutex:\n",
    "        global n_processed\n",
    "        n_processed.value += 1\n",
    "        if n_processed.value % 100 == 0:\n",
    "            print(f\"\\r{n_processed.value} objects are processed...\", flush=True)\n",
    "    return res"
   ]
  },
  {
   "cell_type": "code",
   "execution_count": 10,
   "metadata": {},
   "outputs": [
    {
     "name": "stdout",
     "output_type": "stream",
     "text": [
      "100 objects are processed...\n",
      "200 objects are processed...\n",
      "300 objects are processed...\n",
      "400 objects are processed...\n",
      "500 objects are processed...\n",
      "600 objects are processed...\n",
      "700 objects are processed...\n",
      "800 objects are processed...\n",
      "900 objects are processed...\n",
      "1000 objects are processed...\n",
      "1100 objects are processed...\n",
      "1200 objects are processed...\n",
      "1300 objects are processed...\n",
      "1400 objects are processed...\n",
      "1500 objects are processed...\n",
      "1600 objects are processed...\n",
      "1700 objects are processed...\n",
      "CPU times: user 210 ms, sys: 114 ms, total: 324 ms\n",
      "Wall time: 4min 20s\n"
     ]
    }
   ],
   "source": [
    "%%time\n",
    "n_processed.value = 0\n",
    "with Pool(4) as pool:\n",
    "    res = pool.map(wrapper, books_id)\n",
    "    df = pd.DataFrame(res)\n",
    "    with open('book_info.csv', mode='w', encoding='utf-8') as f:\n",
    "        df.to_csv(f, index=False)"
   ]
  },
  {
   "cell_type": "code",
   "execution_count": null,
   "metadata": {},
   "outputs": [],
   "source": []
  }
 ],
 "metadata": {
  "kernelspec": {
   "display_name": "Python 3",
   "language": "python",
   "name": "python3"
  },
  "language_info": {
   "codemirror_mode": {
    "name": "ipython",
    "version": 3
   },
   "file_extension": ".py",
   "mimetype": "text/x-python",
   "name": "python",
   "nbconvert_exporter": "python",
   "pygments_lexer": "ipython3",
   "version": "3.6.8"
  }
 },
 "nbformat": 4,
 "nbformat_minor": 2
}
